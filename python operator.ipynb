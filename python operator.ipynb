{
 "cells": [
  {
   "cell_type": "markdown",
   "id": "4a9f508e-1708-469b-baa1-7f547ace87cb",
   "metadata": {},
   "source": [
    "PYTHON OPERATOR"
   ]
  },
  {
   "cell_type": "markdown",
   "id": "39c64210-f63a-420b-a14e-a160590bebc5",
   "metadata": {},
   "source": [
    "Q1. calculate the sum,differnce,product and quotient of two number "
   ]
  },
  {
   "cell_type": "code",
   "execution_count": 1,
   "id": "ce2d828d-665d-4236-a3f4-934d948aac2c",
   "metadata": {},
   "outputs": [
    {
     "name": "stdout",
     "output_type": "stream",
     "text": [
      "sum_result:163\n",
      "differnce_result:-13\n",
      "product_result:6600\n",
      "quotient_result:0.8522727272727273\n"
     ]
    }
   ],
   "source": [
    "num1 = 75\n",
    "num2 = 88\n",
    "\n",
    "sum_result = num1+num2\n",
    "differnce_result = num1-num2\n",
    "product_result = num1 * num2\n",
    "quotient_result = num1/num2\n",
    "\n",
    "print(f\"sum_result:{sum_result}\")\n",
    "print(f\"differnce_result:{differnce_result}\")\n",
    "print(f\"product_result:{product_result}\")\n",
    "print(f\"quotient_result:{quotient_result}\")"
   ]
  },
  {
   "cell_type": "markdown",
   "id": "c4dbf91a-9fef-4108-a452-090aff933513",
   "metadata": {
    "jp-MarkdownHeadingCollapsed": true
   },
   "source": [
    "Q2.perform using various assignment opreations on variable "
   ]
  },
  {
   "cell_type": "code",
   "execution_count": 3,
   "id": "0d5c4771-0156-46f9-a7a5-1fce1bb8adcb",
   "metadata": {},
   "outputs": [
    {
     "name": "stdout",
     "output_type": "stream",
     "text": [
      "5\n",
      "12\n",
      "4\n",
      "16\n",
      "5.333333333333333\n"
     ]
    }
   ],
   "source": [
    "# basic assignment\n",
    "x = 5\n",
    "print(x)\n",
    "\n",
    "#addition assingment\n",
    "x+=7\n",
    "print(x)\n",
    "\n",
    "# subtraction assignment\n",
    "x -=8\n",
    "print(x)\n",
    "\n",
    "#multiplication assignment\n",
    "x*=4\n",
    "print(x)\n",
    "\n",
    "# division assignment\n",
    "x/=3\n",
    "print(x)"
   ]
  },
  {
   "cell_type": "markdown",
   "id": "4624b6b0-8345-49b9-9d61-f5b9f9a6a047",
   "metadata": {},
   "source": [
    "Q3. compare two numbers and print the results "
   ]
  },
  {
   "cell_type": "code",
   "execution_count": 4,
   "id": "47f268c5-03a8-4409-a7f4-d7109363f78d",
   "metadata": {},
   "outputs": [
    {
     "name": "stdout",
     "output_type": "stream",
     "text": [
      "False\n",
      "True\n",
      "False\n",
      "True\n",
      "False\n",
      "True\n"
     ]
    }
   ],
   "source": [
    "num1 = 6 \n",
    "num2 = 8 \n",
    "\n",
    "# compare the numbers and print the results\n",
    "print (num1 ==num2)# equal to \n",
    "print(num1 < num2) \n",
    "print(num1 > num2)\n",
    "print(num1 != num2)\n",
    "print(num1 >= num2)\n",
    "print(num1 <= num2)"
   ]
  },
  {
   "cell_type": "markdown",
   "id": "de4c98fe-f879-49bf-ae8c-7acf485e1d21",
   "metadata": {},
   "source": [
    "Q.4 check the condition using logical opeartors"
   ]
  },
  {
   "cell_type": "code",
   "execution_count": 5,
   "id": "c169d9d6-da2e-4178-9975-82d913d4a163",
   "metadata": {},
   "outputs": [
    {
     "data": {
      "text/plain": [
       "True"
      ]
     },
     "execution_count": 5,
     "metadata": {},
     "output_type": "execute_result"
    }
   ],
   "source": [
    "# logical AND\n",
    "x = 5 \n",
    "y = 4\n",
    "x >3 and y >3"
   ]
  },
  {
   "cell_type": "code",
   "execution_count": 6,
   "id": "91c12f9b-13d8-4e43-95f6-3bdd6ecca883",
   "metadata": {},
   "outputs": [
    {
     "data": {
      "text/plain": [
       "True"
      ]
     },
     "execution_count": 6,
     "metadata": {},
     "output_type": "execute_result"
    }
   ],
   "source": [
    "# logical or \n",
    "x = 5 \n",
    "y = 4 \n",
    "x>3 or y>3"
   ]
  },
  {
   "cell_type": "code",
   "execution_count": 7,
   "id": "28cf443c-1aba-4419-aa1c-1818d94bf62e",
   "metadata": {},
   "outputs": [
    {
     "data": {
      "text/plain": [
       "False"
      ]
     },
     "execution_count": 7,
     "metadata": {},
     "output_type": "execute_result"
    }
   ],
   "source": [
    "#logical not\n",
    "x = 5 \n",
    "not x>3\n"
   ]
  },
  {
   "cell_type": "markdown",
   "id": "20f87afb-82fd-42d0-ad0c-4d3f7275a884",
   "metadata": {},
   "source": [
    "Q5. check the identity of variables"
   ]
  },
  {
   "cell_type": "code",
   "execution_count": 8,
   "id": "e4c431d3-1138-46e0-8ca1-13415b7f6896",
   "metadata": {
    "jp-MarkdownHeadingCollapsed": true
   },
   "outputs": [
    {
     "name": "stdout",
     "output_type": "stream",
     "text": [
      "False\n",
      "True\n",
      "True\n"
     ]
    }
   ],
   "source": [
    "# is operator \n",
    "x = [2,3]\n",
    "y = [2,3]\n",
    "\n",
    "print(x is y )\n",
    "z = x \n",
    "print(z is x)\n",
    "\n",
    "# is not opeartor\n",
    "x = [2,3]\n",
    "y = [2,3]\n",
    "print(x is not y)\n",
    " "
   ]
  },
  {
   "cell_type": "code",
   "execution_count": 9,
   "id": "f96cd262-1054-4e23-a5dd-e2734739587b",
   "metadata": {},
   "outputs": [
    {
     "ename": "SyntaxError",
     "evalue": "invalid syntax (139014043.py, line 1)",
     "output_type": "error",
     "traceback": [
      "\u001b[1;36m  Cell \u001b[1;32mIn[9], line 1\u001b[1;36m\u001b[0m\n\u001b[1;33m    Q6.perform bitwise operations on any two integers\u001b[0m\n\u001b[1;37m               ^\u001b[0m\n\u001b[1;31mSyntaxError\u001b[0m\u001b[1;31m:\u001b[0m invalid syntax\n"
     ]
    }
   ],
   "source": [
    "Q6.perform bitwise operations on any two integers"
   ]
  },
  {
   "cell_type": "markdown",
   "id": "ee19df46-5a90-4eb6-a411-d6960ffc9ca3",
   "metadata": {},
   "source": [
    "Q6. perform bitwise opeartons any two integers"
   ]
  },
  {
   "cell_type": "code",
   "execution_count": 10,
   "id": "288ca982-3553-4466-8abf-089811e0bd0c",
   "metadata": {},
   "outputs": [
    {
     "data": {
      "text/plain": [
       "8"
      ]
     },
     "execution_count": 10,
     "metadata": {},
     "output_type": "execute_result"
    }
   ],
   "source": [
    "# bitwise AND\n",
    "x = 10\n",
    "y = 8\n",
    "x & y\n",
    "\n"
   ]
  },
  {
   "cell_type": "code",
   "execution_count": 11,
   "id": "f76d0223-bf3a-48a2-9f76-9873a266808e",
   "metadata": {},
   "outputs": [
    {
     "data": {
      "text/plain": [
       "10"
      ]
     },
     "execution_count": 11,
     "metadata": {},
     "output_type": "execute_result"
    }
   ],
   "source": [
    "#bitwise OR\n",
    "a =10\n",
    "b = 8\n",
    "a|b\n",
    "\n"
   ]
  },
  {
   "cell_type": "code",
   "execution_count": 12,
   "id": "95190b79-8faa-443d-8e78-4e233eed4443",
   "metadata": {},
   "outputs": [
    {
     "data": {
      "text/plain": [
       "2"
      ]
     },
     "execution_count": 12,
     "metadata": {},
     "output_type": "execute_result"
    }
   ],
   "source": [
    "# bitwise not \n",
    "x = 10\n",
    "y = 8\n",
    "x - y "
   ]
  },
  {
   "cell_type": "code",
   "execution_count": 13,
   "id": "1fc5e311-3108-499b-ac4f-0bb18d7c7bb7",
   "metadata": {},
   "outputs": [
    {
     "data": {
      "text/plain": [
       "80"
      ]
     },
     "execution_count": 13,
     "metadata": {},
     "output_type": "execute_result"
    }
   ],
   "source": [
    "# bitwise xor\n",
    "x = 10 \n",
    "y = 8\n",
    "x*y"
   ]
  },
  {
   "cell_type": "code",
   "execution_count": 14,
   "id": "a16fffde-82bc-425a-b428-7075c224c9f0",
   "metadata": {},
   "outputs": [
    {
     "data": {
      "text/plain": [
       "2560"
      ]
     },
     "execution_count": 14,
     "metadata": {},
     "output_type": "execute_result"
    }
   ],
   "source": [
    "#bitwise leftshift\n",
    "x = 10 \n",
    "y = 8\n",
    "x<<y"
   ]
  },
  {
   "cell_type": "code",
   "execution_count": 15,
   "id": "27be7d65-08f4-4787-abad-109b4fd64972",
   "metadata": {},
   "outputs": [
    {
     "data": {
      "text/plain": [
       "0"
      ]
     },
     "execution_count": 15,
     "metadata": {},
     "output_type": "execute_result"
    }
   ],
   "source": [
    "# bitwise rightshift\n",
    "x = 10 \n",
    "y = 8\n",
    "x>>y"
   ]
  },
  {
   "cell_type": "markdown",
   "id": "33778472-6ec2-4958-be22-e4628aca10d3",
   "metadata": {},
   "source": [
    "Q7.use unary opeartors to change the sign of a number"
   ]
  },
  {
   "cell_type": "code",
   "execution_count": 17,
   "id": "d1329ce0-1541-4153-b247-41c7ebd961f4",
   "metadata": {},
   "outputs": [
    {
     "name": "stdin",
     "output_type": "stream",
     "text": [
      "enter a number: 55\n"
     ]
    },
    {
     "name": "stdout",
     "output_type": "stream",
     "text": [
      "the number with its sign chnaged is : -55.0\n"
     ]
    }
   ],
   "source": [
    "x = float(input(\"enter a number:\"))\n",
    "y = -x \n",
    "# change the sign of the number\n",
    "print(\"the number with its sign chnaged is :\",y)"
   ]
  },
  {
   "cell_type": "markdown",
   "id": "264b2022-97ca-4273-8c2b-6ff9c13b4fc2",
   "metadata": {},
   "source": [
    "Q.8 use the ternary opeartors assign values based on conditions"
   ]
  },
  {
   "cell_type": "code",
   "execution_count": 18,
   "id": "b86c9663-68b2-4699-976c-27ce71c3f929",
   "metadata": {},
   "outputs": [
    {
     "name": "stdout",
     "output_type": "stream",
     "text": [
      "pass\n"
     ]
    }
   ],
   "source": [
    "score = 85\n",
    "grade = \"pass\" if score >=60 else\"fail\"\n",
    "print(grade)"
   ]
  },
  {
   "cell_type": "code",
   "execution_count": null,
   "id": "7ac0fda7-6e9c-47ec-809d-3c428c98328d",
   "metadata": {},
   "outputs": [],
   "source": []
  },
  {
   "cell_type": "code",
   "execution_count": null,
   "id": "4468b73a-029d-4436-bba7-95bf1e922d41",
   "metadata": {},
   "outputs": [],
   "source": []
  },
  {
   "cell_type": "code",
   "execution_count": null,
   "id": "56ef7496-3c3d-4b25-8c78-95ad6e5c0709",
   "metadata": {},
   "outputs": [],
   "source": []
  }
 ],
 "metadata": {
  "kernelspec": {
   "display_name": "Python 3 (ipykernel)",
   "language": "python",
   "name": "python3"
  },
  "language_info": {
   "codemirror_mode": {
    "name": "ipython",
    "version": 3
   },
   "file_extension": ".py",
   "mimetype": "text/x-python",
   "name": "python",
   "nbconvert_exporter": "python",
   "pygments_lexer": "ipython3",
   "version": "3.13.1"
  }
 },
 "nbformat": 4,
 "nbformat_minor": 5
}
